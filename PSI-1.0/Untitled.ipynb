{
 "cells": [
  {
   "cell_type": "code",
   "execution_count": 27,
   "metadata": {
    "collapsed": true
   },
   "outputs": [],
   "source": [
    "#!/usr/bin/env python\n",
    "from optparse import OptionParser\n",
    "from numpy import *\n",
    "import os\n",
    "\n",
    "import lwa\n",
    "import sr\n",
    "import rge\n",
    "\n",
    "def read_expression_file(expression_file):\n",
    "    \"Reads EXPRESSION_FILE, which is a tab-delimited file containing gene expression values. The first line is ignored (assumed to be a list of the experiment names). The first field in every line of the remaining lines is the name of the probe, and the rest are real numbers representing expression values in log-space.\"\n",
    "    try:\n",
    "        f = open(expression_file, \"rb\")\n",
    "        first_line = f.readline()\n",
    "        probes = []\n",
    "        expr = []\n",
    "        for line in f:\n",
    "            fields = line.strip().split(\"\\t\")\n",
    "            if len(fields) > 0:\n",
    "                probe_id = fields[0]\n",
    "                expr_values = map(float, fields[1:])\n",
    "                probes.append(probe_id)\n",
    "                expr.append(expr_values)\n",
    "        f.close()\n",
    "        expr = array(expr)\n",
    "        return expr, probes, first_line\n",
    "    except:\n",
    "        print(\"Error reading %s!\"%expression_file)\n",
    "        return None\n",
    "    \n",
    "read_expression_file(\"./psi_datasets/TCGAg_training.txt\")\n",
    "\n",
    "f = open(\"./psi_datasets/TCGAg_training.txt\", \"rb\")\n",
    "first_line = f.readline()\n",
    "first_line\n",
    "probes = []\n",
    "expr = []\n",
    "\n",
    "\n"
   ]
  },
  {
   "cell_type": "code",
   "execution_count": 26,
   "metadata": {},
   "outputs": [
    {
     "ename": "TypeError",
     "evalue": "a bytes-like object is required, not 'str'",
     "output_type": "error",
     "traceback": [
      "\u001b[1;31m---------------------------------------------------------------------------\u001b[0m",
      "\u001b[1;31mTypeError\u001b[0m                                 Traceback (most recent call last)",
      "\u001b[1;32m<ipython-input-26-2aebdf06eb6c>\u001b[0m in \u001b[0;36m<module>\u001b[1;34m()\u001b[0m\n\u001b[0;32m      1\u001b[0m \u001b[1;32mfor\u001b[0m \u001b[0mline\u001b[0m \u001b[1;32min\u001b[0m \u001b[0mf\u001b[0m\u001b[1;33m:\u001b[0m\u001b[1;33m\u001b[0m\u001b[0m\n\u001b[1;32m----> 2\u001b[1;33m     \u001b[0mfields\u001b[0m\u001b[1;33m=\u001b[0m\u001b[0mline\u001b[0m\u001b[1;33m.\u001b[0m\u001b[0mstrip\u001b[0m\u001b[1;33m(\u001b[0m\u001b[1;33m)\u001b[0m\u001b[1;33m.\u001b[0m\u001b[0msplit\u001b[0m\u001b[1;33m(\u001b[0m\u001b[1;34m\"\\t\"\u001b[0m\u001b[1;33m)\u001b[0m\u001b[1;33m\u001b[0m\u001b[0m\n\u001b[0m\u001b[0;32m      3\u001b[0m     \u001b[0mprint\u001b[0m\u001b[1;33m(\u001b[0m\u001b[0mfields\u001b[0m\u001b[1;33m)\u001b[0m\u001b[1;33m\u001b[0m\u001b[0m\n",
      "\u001b[1;31mTypeError\u001b[0m: a bytes-like object is required, not 'str'"
     ]
    }
   ],
   "source": [
    "for line in f:\n",
    "    fields=line.strip().split(\"\\t\")\n",
    "    print(fields)"
   ]
  }
 ],
 "metadata": {
  "kernelspec": {
   "display_name": "Python 3",
   "language": "python",
   "name": "python3"
  },
  "language_info": {
   "codemirror_mode": {
    "name": "ipython",
    "version": 3
   },
   "file_extension": ".py",
   "mimetype": "text/x-python",
   "name": "python",
   "nbconvert_exporter": "python",
   "pygments_lexer": "ipython3",
   "version": "3.6.3"
  }
 },
 "nbformat": 4,
 "nbformat_minor": 2
}
